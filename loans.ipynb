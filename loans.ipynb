{
 "cells": [
  {
   "cell_type": "code",
   "execution_count": 259,
   "metadata": {},
   "outputs": [],
   "source": [
    "%matplotlib inline\n",
    "from matplotlib import pyplot as plt\n",
    "import numpy as np\n",
    "import pandas as pd\n",
    "import pprint as pp\n",
    "\n",
    "from sklearn.linear_model import LogisticRegression\n",
    "from sklearn.model_selection import train_test_split\n",
    "from sklearn.preprocessing import StandardScaler, MinMaxScaler, LabelEncoder\n",
    "from sklearn.metrics import confusion_matrix, classification_report\n",
    "from sklearn.ensemble import RandomForestClassifier"
   ]
  },
  {
   "cell_type": "markdown",
   "metadata": {},
   "source": [
    "# Preprocessing"
   ]
  },
  {
   "cell_type": "code",
   "execution_count": 260,
   "metadata": {},
   "outputs": [],
   "source": [
    "# Reading csv files\n",
    "filepath_2019loans = \"Resources/2019loans.csv\"\n",
    "filepath_2020q1loans = \"Resources/2020Q1loans.csv\"\n",
    "\n",
    "df_2019loan = pd.read_csv(filepath_2019loans)\n",
    "df_2020loan = pd.read_csv(filepath_2020q1loans)"
   ]
  },
  {
   "cell_type": "code",
   "execution_count": 261,
   "metadata": {},
   "outputs": [],
   "source": [
    "# Checking the df 2019 loan data\n",
    "# df_2019loan\n",
    "# print(df_2019loan.columns)\n",
    "# print(len(df_2019loan.columns))"
   ]
  },
  {
   "cell_type": "code",
   "execution_count": 262,
   "metadata": {},
   "outputs": [],
   "source": [
    "# Checking the df 2020 loan data\n",
    "# df_2020loan\n",
    "# print(df_2020loan.columns)\n",
    "# print(len(df_2020loan.columns))"
   ]
  },
  {
   "cell_type": "code",
   "execution_count": 263,
   "metadata": {},
   "outputs": [],
   "source": [
    "# Creating the X data without the target data\n",
    "X = df_2019loan.drop(\"loan_status\", axis = 1)\n",
    "# X"
   ]
  },
  {
   "cell_type": "code",
   "execution_count": 264,
   "metadata": {},
   "outputs": [],
   "source": [
    "# Creating the y data with only the target data\n",
    "y = df_2019loan[\"loan_status\"]\n",
    "# y"
   ]
  },
  {
   "cell_type": "code",
   "execution_count": 265,
   "metadata": {},
   "outputs": [],
   "source": [
    "# One-hot encoding entire df\n",
    "X_dummies = pd.get_dummies(X)\n",
    "# X_dummies\n",
    "# print(X_dummies.columns)\n",
    "# print(len(X_dummies.columns))"
   ]
  },
  {
   "cell_type": "code",
   "execution_count": 271,
   "metadata": {},
   "outputs": [],
   "source": [
    "# Converting output/target data labels into numerical values\n",
    "y_labels = LabelEncoder().fit_transform(y)\n",
    "# y_labels"
   ]
  },
  {
   "cell_type": "code",
   "execution_count": 268,
   "metadata": {},
   "outputs": [
    {
     "data": {
      "text/html": [
       "<div>\n",
       "<style scoped>\n",
       "    .dataframe tbody tr th:only-of-type {\n",
       "        vertical-align: middle;\n",
       "    }\n",
       "\n",
       "    .dataframe tbody tr th {\n",
       "        vertical-align: top;\n",
       "    }\n",
       "\n",
       "    .dataframe thead th {\n",
       "        text-align: right;\n",
       "    }\n",
       "</style>\n",
       "<table border=\"1\" class=\"dataframe\">\n",
       "  <thead>\n",
       "    <tr style=\"text-align: right;\">\n",
       "      <th></th>\n",
       "      <th>Unnamed: 0</th>\n",
       "      <th>index</th>\n",
       "      <th>loan_amnt</th>\n",
       "      <th>int_rate</th>\n",
       "      <th>installment</th>\n",
       "      <th>annual_inc</th>\n",
       "      <th>dti</th>\n",
       "      <th>delinq_2yrs</th>\n",
       "      <th>inq_last_6mths</th>\n",
       "      <th>open_acc</th>\n",
       "      <th>...</th>\n",
       "      <th>verification_status_Verified</th>\n",
       "      <th>pymnt_plan_n</th>\n",
       "      <th>initial_list_status_f</th>\n",
       "      <th>initial_list_status_w</th>\n",
       "      <th>application_type_Individual</th>\n",
       "      <th>application_type_Joint App</th>\n",
       "      <th>hardship_flag_N</th>\n",
       "      <th>hardship_flag_Y</th>\n",
       "      <th>debt_settlement_flag_N</th>\n",
       "      <th>debt_settlement_flag_Y</th>\n",
       "    </tr>\n",
       "  </thead>\n",
       "  <tbody>\n",
       "    <tr>\n",
       "      <th>0</th>\n",
       "      <td>57107</td>\n",
       "      <td>57107</td>\n",
       "      <td>13375.0</td>\n",
       "      <td>0.1797</td>\n",
       "      <td>483.34</td>\n",
       "      <td>223000.0</td>\n",
       "      <td>29.99</td>\n",
       "      <td>0.0</td>\n",
       "      <td>0.0</td>\n",
       "      <td>15.0</td>\n",
       "      <td>...</td>\n",
       "      <td>0</td>\n",
       "      <td>1</td>\n",
       "      <td>0</td>\n",
       "      <td>1</td>\n",
       "      <td>1</td>\n",
       "      <td>0</td>\n",
       "      <td>1</td>\n",
       "      <td>0</td>\n",
       "      <td>1</td>\n",
       "      <td>0</td>\n",
       "    </tr>\n",
       "    <tr>\n",
       "      <th>1</th>\n",
       "      <td>141451</td>\n",
       "      <td>141451</td>\n",
       "      <td>21000.0</td>\n",
       "      <td>0.1308</td>\n",
       "      <td>478.68</td>\n",
       "      <td>123000.0</td>\n",
       "      <td>11.26</td>\n",
       "      <td>2.0</td>\n",
       "      <td>0.0</td>\n",
       "      <td>16.0</td>\n",
       "      <td>...</td>\n",
       "      <td>0</td>\n",
       "      <td>1</td>\n",
       "      <td>0</td>\n",
       "      <td>1</td>\n",
       "      <td>1</td>\n",
       "      <td>0</td>\n",
       "      <td>1</td>\n",
       "      <td>0</td>\n",
       "      <td>1</td>\n",
       "      <td>0</td>\n",
       "    </tr>\n",
       "    <tr>\n",
       "      <th>2</th>\n",
       "      <td>321143</td>\n",
       "      <td>321143</td>\n",
       "      <td>20000.0</td>\n",
       "      <td>0.1240</td>\n",
       "      <td>448.95</td>\n",
       "      <td>197000.0</td>\n",
       "      <td>11.28</td>\n",
       "      <td>0.0</td>\n",
       "      <td>0.0</td>\n",
       "      <td>12.0</td>\n",
       "      <td>...</td>\n",
       "      <td>0</td>\n",
       "      <td>1</td>\n",
       "      <td>0</td>\n",
       "      <td>1</td>\n",
       "      <td>1</td>\n",
       "      <td>0</td>\n",
       "      <td>1</td>\n",
       "      <td>0</td>\n",
       "      <td>1</td>\n",
       "      <td>0</td>\n",
       "    </tr>\n",
       "    <tr>\n",
       "      <th>3</th>\n",
       "      <td>11778</td>\n",
       "      <td>11778</td>\n",
       "      <td>3000.0</td>\n",
       "      <td>0.1240</td>\n",
       "      <td>100.22</td>\n",
       "      <td>45000.0</td>\n",
       "      <td>18.08</td>\n",
       "      <td>0.0</td>\n",
       "      <td>0.0</td>\n",
       "      <td>12.0</td>\n",
       "      <td>...</td>\n",
       "      <td>0</td>\n",
       "      <td>1</td>\n",
       "      <td>0</td>\n",
       "      <td>1</td>\n",
       "      <td>1</td>\n",
       "      <td>0</td>\n",
       "      <td>1</td>\n",
       "      <td>0</td>\n",
       "      <td>1</td>\n",
       "      <td>0</td>\n",
       "    </tr>\n",
       "    <tr>\n",
       "      <th>4</th>\n",
       "      <td>169382</td>\n",
       "      <td>169382</td>\n",
       "      <td>30000.0</td>\n",
       "      <td>0.1612</td>\n",
       "      <td>1056.49</td>\n",
       "      <td>133000.0</td>\n",
       "      <td>27.77</td>\n",
       "      <td>0.0</td>\n",
       "      <td>2.0</td>\n",
       "      <td>13.0</td>\n",
       "      <td>...</td>\n",
       "      <td>0</td>\n",
       "      <td>1</td>\n",
       "      <td>0</td>\n",
       "      <td>1</td>\n",
       "      <td>1</td>\n",
       "      <td>0</td>\n",
       "      <td>1</td>\n",
       "      <td>0</td>\n",
       "      <td>1</td>\n",
       "      <td>0</td>\n",
       "    </tr>\n",
       "    <tr>\n",
       "      <th>...</th>\n",
       "      <td>...</td>\n",
       "      <td>...</td>\n",
       "      <td>...</td>\n",
       "      <td>...</td>\n",
       "      <td>...</td>\n",
       "      <td>...</td>\n",
       "      <td>...</td>\n",
       "      <td>...</td>\n",
       "      <td>...</td>\n",
       "      <td>...</td>\n",
       "      <td>...</td>\n",
       "      <td>...</td>\n",
       "      <td>...</td>\n",
       "      <td>...</td>\n",
       "      <td>...</td>\n",
       "      <td>...</td>\n",
       "      <td>...</td>\n",
       "      <td>...</td>\n",
       "      <td>...</td>\n",
       "      <td>...</td>\n",
       "      <td>...</td>\n",
       "    </tr>\n",
       "    <tr>\n",
       "      <th>12175</th>\n",
       "      <td>354912</td>\n",
       "      <td>354912</td>\n",
       "      <td>19975.0</td>\n",
       "      <td>0.2565</td>\n",
       "      <td>801.09</td>\n",
       "      <td>28000.0</td>\n",
       "      <td>28.42</td>\n",
       "      <td>0.0</td>\n",
       "      <td>0.0</td>\n",
       "      <td>15.0</td>\n",
       "      <td>...</td>\n",
       "      <td>0</td>\n",
       "      <td>1</td>\n",
       "      <td>0</td>\n",
       "      <td>1</td>\n",
       "      <td>1</td>\n",
       "      <td>0</td>\n",
       "      <td>1</td>\n",
       "      <td>0</td>\n",
       "      <td>1</td>\n",
       "      <td>0</td>\n",
       "    </tr>\n",
       "    <tr>\n",
       "      <th>12176</th>\n",
       "      <td>354944</td>\n",
       "      <td>354944</td>\n",
       "      <td>15000.0</td>\n",
       "      <td>0.1774</td>\n",
       "      <td>540.34</td>\n",
       "      <td>50000.0</td>\n",
       "      <td>23.43</td>\n",
       "      <td>4.0</td>\n",
       "      <td>0.0</td>\n",
       "      <td>16.0</td>\n",
       "      <td>...</td>\n",
       "      <td>1</td>\n",
       "      <td>1</td>\n",
       "      <td>0</td>\n",
       "      <td>1</td>\n",
       "      <td>1</td>\n",
       "      <td>0</td>\n",
       "      <td>1</td>\n",
       "      <td>0</td>\n",
       "      <td>1</td>\n",
       "      <td>0</td>\n",
       "    </tr>\n",
       "    <tr>\n",
       "      <th>12177</th>\n",
       "      <td>354973</td>\n",
       "      <td>354973</td>\n",
       "      <td>3600.0</td>\n",
       "      <td>0.1862</td>\n",
       "      <td>131.28</td>\n",
       "      <td>60000.0</td>\n",
       "      <td>28.80</td>\n",
       "      <td>0.0</td>\n",
       "      <td>1.0</td>\n",
       "      <td>14.0</td>\n",
       "      <td>...</td>\n",
       "      <td>0</td>\n",
       "      <td>1</td>\n",
       "      <td>0</td>\n",
       "      <td>1</td>\n",
       "      <td>1</td>\n",
       "      <td>0</td>\n",
       "      <td>1</td>\n",
       "      <td>0</td>\n",
       "      <td>1</td>\n",
       "      <td>0</td>\n",
       "    </tr>\n",
       "    <tr>\n",
       "      <th>12178</th>\n",
       "      <td>355002</td>\n",
       "      <td>355002</td>\n",
       "      <td>15000.0</td>\n",
       "      <td>0.0881</td>\n",
       "      <td>475.68</td>\n",
       "      <td>62000.0</td>\n",
       "      <td>11.44</td>\n",
       "      <td>0.0</td>\n",
       "      <td>0.0</td>\n",
       "      <td>5.0</td>\n",
       "      <td>...</td>\n",
       "      <td>0</td>\n",
       "      <td>1</td>\n",
       "      <td>0</td>\n",
       "      <td>1</td>\n",
       "      <td>0</td>\n",
       "      <td>1</td>\n",
       "      <td>1</td>\n",
       "      <td>0</td>\n",
       "      <td>1</td>\n",
       "      <td>0</td>\n",
       "    </tr>\n",
       "    <tr>\n",
       "      <th>12179</th>\n",
       "      <td>355307</td>\n",
       "      <td>355307</td>\n",
       "      <td>15000.0</td>\n",
       "      <td>0.1774</td>\n",
       "      <td>540.34</td>\n",
       "      <td>54080.0</td>\n",
       "      <td>21.66</td>\n",
       "      <td>1.0</td>\n",
       "      <td>1.0</td>\n",
       "      <td>5.0</td>\n",
       "      <td>...</td>\n",
       "      <td>0</td>\n",
       "      <td>1</td>\n",
       "      <td>1</td>\n",
       "      <td>0</td>\n",
       "      <td>1</td>\n",
       "      <td>0</td>\n",
       "      <td>1</td>\n",
       "      <td>0</td>\n",
       "      <td>1</td>\n",
       "      <td>0</td>\n",
       "    </tr>\n",
       "  </tbody>\n",
       "</table>\n",
       "<p>12180 rows × 94 columns</p>\n",
       "</div>"
      ],
      "text/plain": [
       "       Unnamed: 0   index  loan_amnt  int_rate  installment  annual_inc  \\\n",
       "0           57107   57107    13375.0    0.1797       483.34    223000.0   \n",
       "1          141451  141451    21000.0    0.1308       478.68    123000.0   \n",
       "2          321143  321143    20000.0    0.1240       448.95    197000.0   \n",
       "3           11778   11778     3000.0    0.1240       100.22     45000.0   \n",
       "4          169382  169382    30000.0    0.1612      1056.49    133000.0   \n",
       "...           ...     ...        ...       ...          ...         ...   \n",
       "12175      354912  354912    19975.0    0.2565       801.09     28000.0   \n",
       "12176      354944  354944    15000.0    0.1774       540.34     50000.0   \n",
       "12177      354973  354973     3600.0    0.1862       131.28     60000.0   \n",
       "12178      355002  355002    15000.0    0.0881       475.68     62000.0   \n",
       "12179      355307  355307    15000.0    0.1774       540.34     54080.0   \n",
       "\n",
       "         dti  delinq_2yrs  inq_last_6mths  open_acc  ...  \\\n",
       "0      29.99          0.0             0.0      15.0  ...   \n",
       "1      11.26          2.0             0.0      16.0  ...   \n",
       "2      11.28          0.0             0.0      12.0  ...   \n",
       "3      18.08          0.0             0.0      12.0  ...   \n",
       "4      27.77          0.0             2.0      13.0  ...   \n",
       "...      ...          ...             ...       ...  ...   \n",
       "12175  28.42          0.0             0.0      15.0  ...   \n",
       "12176  23.43          4.0             0.0      16.0  ...   \n",
       "12177  28.80          0.0             1.0      14.0  ...   \n",
       "12178  11.44          0.0             0.0       5.0  ...   \n",
       "12179  21.66          1.0             1.0       5.0  ...   \n",
       "\n",
       "       verification_status_Verified  pymnt_plan_n  initial_list_status_f  \\\n",
       "0                                 0             1                      0   \n",
       "1                                 0             1                      0   \n",
       "2                                 0             1                      0   \n",
       "3                                 0             1                      0   \n",
       "4                                 0             1                      0   \n",
       "...                             ...           ...                    ...   \n",
       "12175                             0             1                      0   \n",
       "12176                             1             1                      0   \n",
       "12177                             0             1                      0   \n",
       "12178                             0             1                      0   \n",
       "12179                             0             1                      1   \n",
       "\n",
       "       initial_list_status_w  application_type_Individual  \\\n",
       "0                          1                            1   \n",
       "1                          1                            1   \n",
       "2                          1                            1   \n",
       "3                          1                            1   \n",
       "4                          1                            1   \n",
       "...                      ...                          ...   \n",
       "12175                      1                            1   \n",
       "12176                      1                            1   \n",
       "12177                      1                            1   \n",
       "12178                      1                            0   \n",
       "12179                      0                            1   \n",
       "\n",
       "       application_type_Joint App  hardship_flag_N  hardship_flag_Y  \\\n",
       "0                               0                1                0   \n",
       "1                               0                1                0   \n",
       "2                               0                1                0   \n",
       "3                               0                1                0   \n",
       "4                               0                1                0   \n",
       "...                           ...              ...              ...   \n",
       "12175                           0                1                0   \n",
       "12176                           0                1                0   \n",
       "12177                           0                1                0   \n",
       "12178                           1                1                0   \n",
       "12179                           0                1                0   \n",
       "\n",
       "       debt_settlement_flag_N  debt_settlement_flag_Y  \n",
       "0                           1                       0  \n",
       "1                           1                       0  \n",
       "2                           1                       0  \n",
       "3                           1                       0  \n",
       "4                           1                       0  \n",
       "...                       ...                     ...  \n",
       "12175                       1                       0  \n",
       "12176                       1                       0  \n",
       "12177                       1                       0  \n",
       "12178                       1                       0  \n",
       "12179                       1                       0  \n",
       "\n",
       "[12180 rows x 94 columns]"
      ]
     },
     "execution_count": 268,
     "metadata": {},
     "output_type": "execute_result"
    }
   ],
   "source": [
    "# Training set for data from all of 2019 loans\n",
    "X_2019 = df_2019loan.drop(\"loan_status\", axis = 1)\n",
    "y_2019 = df_2019loan[\"loan_status\"]\n",
    "X_dummies_2019 = pd.get_dummies(X_2019)\n",
    "y_labels_2019 = LabelEncoder().fit_transform(y_2019)\n",
    "# print(X_dummies_2019.columns)\n",
    "# print(len(X_dummies_2019.columns))\n",
    "X_dummies_2019"
   ]
  },
  {
   "cell_type": "code",
   "execution_count": 269,
   "metadata": {},
   "outputs": [
    {
     "data": {
      "text/html": [
       "<div>\n",
       "<style scoped>\n",
       "    .dataframe tbody tr th:only-of-type {\n",
       "        vertical-align: middle;\n",
       "    }\n",
       "\n",
       "    .dataframe tbody tr th {\n",
       "        vertical-align: top;\n",
       "    }\n",
       "\n",
       "    .dataframe thead th {\n",
       "        text-align: right;\n",
       "    }\n",
       "</style>\n",
       "<table border=\"1\" class=\"dataframe\">\n",
       "  <thead>\n",
       "    <tr style=\"text-align: right;\">\n",
       "      <th></th>\n",
       "      <th>Unnamed: 0</th>\n",
       "      <th>index</th>\n",
       "      <th>loan_amnt</th>\n",
       "      <th>int_rate</th>\n",
       "      <th>installment</th>\n",
       "      <th>annual_inc</th>\n",
       "      <th>dti</th>\n",
       "      <th>delinq_2yrs</th>\n",
       "      <th>inq_last_6mths</th>\n",
       "      <th>open_acc</th>\n",
       "      <th>...</th>\n",
       "      <th>verification_status_Verified</th>\n",
       "      <th>pymnt_plan_n</th>\n",
       "      <th>initial_list_status_f</th>\n",
       "      <th>initial_list_status_w</th>\n",
       "      <th>application_type_Individual</th>\n",
       "      <th>application_type_Joint App</th>\n",
       "      <th>hardship_flag_N</th>\n",
       "      <th>hardship_flag_Y</th>\n",
       "      <th>debt_settlement_flag_N</th>\n",
       "      <th>debt_settlement_flag_Y</th>\n",
       "    </tr>\n",
       "  </thead>\n",
       "  <tbody>\n",
       "    <tr>\n",
       "      <th>0</th>\n",
       "      <td>67991</td>\n",
       "      <td>67991</td>\n",
       "      <td>40000.0</td>\n",
       "      <td>0.0819</td>\n",
       "      <td>814.70</td>\n",
       "      <td>140000.0</td>\n",
       "      <td>19.75</td>\n",
       "      <td>0.0</td>\n",
       "      <td>1.0</td>\n",
       "      <td>18.0</td>\n",
       "      <td>...</td>\n",
       "      <td>0</td>\n",
       "      <td>1</td>\n",
       "      <td>0</td>\n",
       "      <td>1</td>\n",
       "      <td>1</td>\n",
       "      <td>0</td>\n",
       "      <td>1</td>\n",
       "      <td>0</td>\n",
       "      <td>1</td>\n",
       "      <td>0</td>\n",
       "    </tr>\n",
       "    <tr>\n",
       "      <th>1</th>\n",
       "      <td>25429</td>\n",
       "      <td>25429</td>\n",
       "      <td>6000.0</td>\n",
       "      <td>0.1524</td>\n",
       "      <td>208.70</td>\n",
       "      <td>55000.0</td>\n",
       "      <td>11.52</td>\n",
       "      <td>2.0</td>\n",
       "      <td>0.0</td>\n",
       "      <td>8.0</td>\n",
       "      <td>...</td>\n",
       "      <td>0</td>\n",
       "      <td>1</td>\n",
       "      <td>0</td>\n",
       "      <td>1</td>\n",
       "      <td>1</td>\n",
       "      <td>0</td>\n",
       "      <td>1</td>\n",
       "      <td>0</td>\n",
       "      <td>1</td>\n",
       "      <td>0</td>\n",
       "    </tr>\n",
       "    <tr>\n",
       "      <th>2</th>\n",
       "      <td>38496</td>\n",
       "      <td>38496</td>\n",
       "      <td>3600.0</td>\n",
       "      <td>0.1695</td>\n",
       "      <td>128.27</td>\n",
       "      <td>42000.0</td>\n",
       "      <td>6.74</td>\n",
       "      <td>0.0</td>\n",
       "      <td>0.0</td>\n",
       "      <td>6.0</td>\n",
       "      <td>...</td>\n",
       "      <td>0</td>\n",
       "      <td>1</td>\n",
       "      <td>0</td>\n",
       "      <td>1</td>\n",
       "      <td>1</td>\n",
       "      <td>0</td>\n",
       "      <td>1</td>\n",
       "      <td>0</td>\n",
       "      <td>1</td>\n",
       "      <td>0</td>\n",
       "    </tr>\n",
       "    <tr>\n",
       "      <th>3</th>\n",
       "      <td>19667</td>\n",
       "      <td>19667</td>\n",
       "      <td>20000.0</td>\n",
       "      <td>0.1524</td>\n",
       "      <td>478.33</td>\n",
       "      <td>100000.0</td>\n",
       "      <td>12.13</td>\n",
       "      <td>0.0</td>\n",
       "      <td>2.0</td>\n",
       "      <td>7.0</td>\n",
       "      <td>...</td>\n",
       "      <td>0</td>\n",
       "      <td>1</td>\n",
       "      <td>0</td>\n",
       "      <td>1</td>\n",
       "      <td>1</td>\n",
       "      <td>0</td>\n",
       "      <td>1</td>\n",
       "      <td>0</td>\n",
       "      <td>1</td>\n",
       "      <td>0</td>\n",
       "    </tr>\n",
       "    <tr>\n",
       "      <th>4</th>\n",
       "      <td>37505</td>\n",
       "      <td>37505</td>\n",
       "      <td>3600.0</td>\n",
       "      <td>0.1240</td>\n",
       "      <td>120.27</td>\n",
       "      <td>50000.0</td>\n",
       "      <td>16.08</td>\n",
       "      <td>0.0</td>\n",
       "      <td>3.0</td>\n",
       "      <td>6.0</td>\n",
       "      <td>...</td>\n",
       "      <td>0</td>\n",
       "      <td>1</td>\n",
       "      <td>0</td>\n",
       "      <td>1</td>\n",
       "      <td>1</td>\n",
       "      <td>0</td>\n",
       "      <td>1</td>\n",
       "      <td>0</td>\n",
       "      <td>1</td>\n",
       "      <td>0</td>\n",
       "    </tr>\n",
       "    <tr>\n",
       "      <th>...</th>\n",
       "      <td>...</td>\n",
       "      <td>...</td>\n",
       "      <td>...</td>\n",
       "      <td>...</td>\n",
       "      <td>...</td>\n",
       "      <td>...</td>\n",
       "      <td>...</td>\n",
       "      <td>...</td>\n",
       "      <td>...</td>\n",
       "      <td>...</td>\n",
       "      <td>...</td>\n",
       "      <td>...</td>\n",
       "      <td>...</td>\n",
       "      <td>...</td>\n",
       "      <td>...</td>\n",
       "      <td>...</td>\n",
       "      <td>...</td>\n",
       "      <td>...</td>\n",
       "      <td>...</td>\n",
       "      <td>...</td>\n",
       "      <td>...</td>\n",
       "    </tr>\n",
       "    <tr>\n",
       "      <th>4697</th>\n",
       "      <td>77282</td>\n",
       "      <td>77282</td>\n",
       "      <td>30000.0</td>\n",
       "      <td>0.1240</td>\n",
       "      <td>673.42</td>\n",
       "      <td>140480.0</td>\n",
       "      <td>15.74</td>\n",
       "      <td>0.0</td>\n",
       "      <td>0.0</td>\n",
       "      <td>20.0</td>\n",
       "      <td>...</td>\n",
       "      <td>0</td>\n",
       "      <td>1</td>\n",
       "      <td>1</td>\n",
       "      <td>0</td>\n",
       "      <td>1</td>\n",
       "      <td>0</td>\n",
       "      <td>1</td>\n",
       "      <td>0</td>\n",
       "      <td>1</td>\n",
       "      <td>0</td>\n",
       "    </tr>\n",
       "    <tr>\n",
       "      <th>4698</th>\n",
       "      <td>77291</td>\n",
       "      <td>77291</td>\n",
       "      <td>24000.0</td>\n",
       "      <td>0.0756</td>\n",
       "      <td>747.22</td>\n",
       "      <td>50000.0</td>\n",
       "      <td>26.81</td>\n",
       "      <td>0.0</td>\n",
       "      <td>0.0</td>\n",
       "      <td>9.0</td>\n",
       "      <td>...</td>\n",
       "      <td>0</td>\n",
       "      <td>1</td>\n",
       "      <td>0</td>\n",
       "      <td>1</td>\n",
       "      <td>1</td>\n",
       "      <td>0</td>\n",
       "      <td>1</td>\n",
       "      <td>0</td>\n",
       "      <td>1</td>\n",
       "      <td>0</td>\n",
       "    </tr>\n",
       "    <tr>\n",
       "      <th>4699</th>\n",
       "      <td>77292</td>\n",
       "      <td>77292</td>\n",
       "      <td>10000.0</td>\n",
       "      <td>0.2305</td>\n",
       "      <td>387.36</td>\n",
       "      <td>33000.0</td>\n",
       "      <td>38.51</td>\n",
       "      <td>0.0</td>\n",
       "      <td>2.0</td>\n",
       "      <td>7.0</td>\n",
       "      <td>...</td>\n",
       "      <td>1</td>\n",
       "      <td>1</td>\n",
       "      <td>1</td>\n",
       "      <td>0</td>\n",
       "      <td>1</td>\n",
       "      <td>0</td>\n",
       "      <td>1</td>\n",
       "      <td>0</td>\n",
       "      <td>1</td>\n",
       "      <td>0</td>\n",
       "    </tr>\n",
       "    <tr>\n",
       "      <th>4700</th>\n",
       "      <td>77297</td>\n",
       "      <td>77297</td>\n",
       "      <td>8000.0</td>\n",
       "      <td>0.1862</td>\n",
       "      <td>205.86</td>\n",
       "      <td>38000.0</td>\n",
       "      <td>16.36</td>\n",
       "      <td>0.0</td>\n",
       "      <td>1.0</td>\n",
       "      <td>8.0</td>\n",
       "      <td>...</td>\n",
       "      <td>0</td>\n",
       "      <td>1</td>\n",
       "      <td>0</td>\n",
       "      <td>1</td>\n",
       "      <td>1</td>\n",
       "      <td>0</td>\n",
       "      <td>1</td>\n",
       "      <td>0</td>\n",
       "      <td>1</td>\n",
       "      <td>0</td>\n",
       "    </tr>\n",
       "    <tr>\n",
       "      <th>4701</th>\n",
       "      <td>77304</td>\n",
       "      <td>77304</td>\n",
       "      <td>30000.0</td>\n",
       "      <td>0.2055</td>\n",
       "      <td>1123.34</td>\n",
       "      <td>180000.0</td>\n",
       "      <td>12.06</td>\n",
       "      <td>0.0</td>\n",
       "      <td>0.0</td>\n",
       "      <td>8.0</td>\n",
       "      <td>...</td>\n",
       "      <td>0</td>\n",
       "      <td>1</td>\n",
       "      <td>1</td>\n",
       "      <td>0</td>\n",
       "      <td>1</td>\n",
       "      <td>0</td>\n",
       "      <td>1</td>\n",
       "      <td>0</td>\n",
       "      <td>1</td>\n",
       "      <td>0</td>\n",
       "    </tr>\n",
       "  </tbody>\n",
       "</table>\n",
       "<p>4702 rows × 94 columns</p>\n",
       "</div>"
      ],
      "text/plain": [
       "      Unnamed: 0  index  loan_amnt  int_rate  installment  annual_inc    dti  \\\n",
       "0          67991  67991    40000.0    0.0819       814.70    140000.0  19.75   \n",
       "1          25429  25429     6000.0    0.1524       208.70     55000.0  11.52   \n",
       "2          38496  38496     3600.0    0.1695       128.27     42000.0   6.74   \n",
       "3          19667  19667    20000.0    0.1524       478.33    100000.0  12.13   \n",
       "4          37505  37505     3600.0    0.1240       120.27     50000.0  16.08   \n",
       "...          ...    ...        ...       ...          ...         ...    ...   \n",
       "4697       77282  77282    30000.0    0.1240       673.42    140480.0  15.74   \n",
       "4698       77291  77291    24000.0    0.0756       747.22     50000.0  26.81   \n",
       "4699       77292  77292    10000.0    0.2305       387.36     33000.0  38.51   \n",
       "4700       77297  77297     8000.0    0.1862       205.86     38000.0  16.36   \n",
       "4701       77304  77304    30000.0    0.2055      1123.34    180000.0  12.06   \n",
       "\n",
       "      delinq_2yrs  inq_last_6mths  open_acc  ...  \\\n",
       "0             0.0             1.0      18.0  ...   \n",
       "1             2.0             0.0       8.0  ...   \n",
       "2             0.0             0.0       6.0  ...   \n",
       "3             0.0             2.0       7.0  ...   \n",
       "4             0.0             3.0       6.0  ...   \n",
       "...           ...             ...       ...  ...   \n",
       "4697          0.0             0.0      20.0  ...   \n",
       "4698          0.0             0.0       9.0  ...   \n",
       "4699          0.0             2.0       7.0  ...   \n",
       "4700          0.0             1.0       8.0  ...   \n",
       "4701          0.0             0.0       8.0  ...   \n",
       "\n",
       "      verification_status_Verified  pymnt_plan_n  initial_list_status_f  \\\n",
       "0                                0             1                      0   \n",
       "1                                0             1                      0   \n",
       "2                                0             1                      0   \n",
       "3                                0             1                      0   \n",
       "4                                0             1                      0   \n",
       "...                            ...           ...                    ...   \n",
       "4697                             0             1                      1   \n",
       "4698                             0             1                      0   \n",
       "4699                             1             1                      1   \n",
       "4700                             0             1                      0   \n",
       "4701                             0             1                      1   \n",
       "\n",
       "      initial_list_status_w  application_type_Individual  \\\n",
       "0                         1                            1   \n",
       "1                         1                            1   \n",
       "2                         1                            1   \n",
       "3                         1                            1   \n",
       "4                         1                            1   \n",
       "...                     ...                          ...   \n",
       "4697                      0                            1   \n",
       "4698                      1                            1   \n",
       "4699                      0                            1   \n",
       "4700                      1                            1   \n",
       "4701                      0                            1   \n",
       "\n",
       "      application_type_Joint App  hardship_flag_N  hardship_flag_Y  \\\n",
       "0                              0                1                0   \n",
       "1                              0                1                0   \n",
       "2                              0                1                0   \n",
       "3                              0                1                0   \n",
       "4                              0                1                0   \n",
       "...                          ...              ...              ...   \n",
       "4697                           0                1                0   \n",
       "4698                           0                1                0   \n",
       "4699                           0                1                0   \n",
       "4700                           0                1                0   \n",
       "4701                           0                1                0   \n",
       "\n",
       "      debt_settlement_flag_N  debt_settlement_flag_Y  \n",
       "0                          1                       0  \n",
       "1                          1                       0  \n",
       "2                          1                       0  \n",
       "3                          1                       0  \n",
       "4                          1                       0  \n",
       "...                      ...                     ...  \n",
       "4697                       1                       0  \n",
       "4698                       1                       0  \n",
       "4699                       1                       0  \n",
       "4700                       1                       0  \n",
       "4701                       1                       0  \n",
       "\n",
       "[4702 rows x 94 columns]"
      ]
     },
     "execution_count": 269,
     "metadata": {},
     "output_type": "execute_result"
    }
   ],
   "source": [
    "# Testing set for data from 1st quart 2020 loans\n",
    "X_2020 = df_2020loan.drop(\"loan_status\", axis = 1)\n",
    "y_2020 = df_2020loan[\"loan_status\"]\n",
    "X_dummies_2020 = pd.get_dummies(X_2020)\n",
    "y_labels_2020 = LabelEncoder().fit_transform(y_2020)\n",
    "# print(X_dummies_2020.columns)\n",
    "# print(len(X_dummies_2020.columns))\n",
    "\n",
    "# Add in the \n",
    "X_dummies_2020[\"debt_settlement_flag_Y\"] = 0\n",
    "X_dummies_2020"
   ]
  },
  {
   "cell_type": "code",
   "execution_count": 272,
   "metadata": {},
   "outputs": [],
   "source": [
    "# Split the data into X_train, X_test, y_train, y_test\n",
    "X_train = X_dummies_2019\n",
    "X_test = X_dummies_2020\n",
    "y_train = y_labels_2019 \n",
    "y_test = y_labels_2020"
   ]
  },
  {
   "cell_type": "markdown",
   "metadata": {},
   "source": [
    "# <u>First Prediction</u>\n",
    "\n",
    "Before running the logistics regression model and the random forest classifier, my prediction is that the random forest classifier will perform better than the logistics regression model with the unscaled data.  And for the scaled data, I would predict random forest classifier would still be better than the logistics regression model.\n",
    "\n",
    "This is a classification problem so both logistics regression model and random forest classifier work well.  Though it takes longer and computationally heavy, random forest classifier are more accurate.  If we're measuring how fast a model performs, then logistics regression will most likely perform faster than the random forest.  However, I'm looking for accuracy therefore I'm predicting that random forest classifier will do better."
   ]
  },
  {
   "cell_type": "markdown",
   "metadata": {},
   "source": [
    "# Unscaled Logistic Regression"
   ]
  },
  {
   "cell_type": "code",
   "execution_count": 273,
   "metadata": {},
   "outputs": [
    {
     "name": "stderr",
     "output_type": "stream",
     "text": [
      "/Users/rmbp2015/opt/anaconda3/lib/python3.8/site-packages/sklearn/linear_model/_logistic.py:763: ConvergenceWarning: lbfgs failed to converge (status=1):\n",
      "STOP: TOTAL NO. of ITERATIONS REACHED LIMIT.\n",
      "\n",
      "Increase the number of iterations (max_iter) or scale the data as shown in:\n",
      "    https://scikit-learn.org/stable/modules/preprocessing.html\n",
      "Please also refer to the documentation for alternative solver options:\n",
      "    https://scikit-learn.org/stable/modules/linear_model.html#logistic-regression\n",
      "  n_iter_i = _check_optimize_result(\n"
     ]
    },
    {
     "data": {
      "text/plain": [
       "LogisticRegression()"
      ]
     },
     "execution_count": 273,
     "metadata": {},
     "output_type": "execute_result"
    }
   ],
   "source": [
    "# Create the Logistic Regression model\n",
    "logreg_model = LogisticRegression()\n",
    "\n",
    "# Fit/train the model using the training data from 2019 loans\n",
    "logreg_model.fit(X_train, y_train)"
   ]
  },
  {
   "cell_type": "code",
   "execution_count": 274,
   "metadata": {},
   "outputs": [
    {
     "name": "stdout",
     "output_type": "stream",
     "text": [
      "Training Data Score: 0.6485221674876848\n",
      "Testing Data Score: 0.5253083794130158\n"
     ]
    }
   ],
   "source": [
    "# Validate the model using the test data\n",
    "print(f\"Training Data Score: {logreg_model.score(X_train, y_train)}\")\n",
    "print(f\"Testing Data Score: {logreg_model.score(X_test, y_test)}\")"
   ]
  },
  {
   "cell_type": "code",
   "execution_count": 275,
   "metadata": {},
   "outputs": [
    {
     "name": "stdout",
     "output_type": "stream",
     "text": [
      "True negative: 526\n",
      "False positive: 1825\n",
      "False negative: 407\n",
      "True postive: 1944\n"
     ]
    }
   ],
   "source": [
    "# Confusion Matrix\n",
    "y_true_log = y_test\n",
    "y_pred_log = logreg_model.predict(X_test)\n",
    "confusion_matrix(y_true_log, y_pred_log)\n",
    "tn, fp, fn, tp = confusion_matrix(y_true_log, y_pred_log).ravel()\n",
    "tn, fp, fn, tp\n",
    "print(f\"True negative: {tn}\")\n",
    "print(f\"False positive: {fp}\")\n",
    "print(f\"False negative: {fn}\")\n",
    "print(f\"True postive: {tp}\")\n"
   ]
  },
  {
   "cell_type": "code",
   "execution_count": 284,
   "metadata": {},
   "outputs": [
    {
     "name": "stdout",
     "output_type": "stream",
     "text": [
      "              precision    recall  f1-score   support\n",
      "\n",
      "           0       0.56      0.22      0.32      2351\n",
      "           1       0.52      0.83      0.64      2351\n",
      "\n",
      "    accuracy                           0.53      4702\n",
      "   macro avg       0.54      0.53      0.48      4702\n",
      "weighted avg       0.54      0.53      0.48      4702\n",
      "\n"
     ]
    }
   ],
   "source": [
    "# Classification Report\n",
    "print(classification_report(y_true_log, y_pred_log))"
   ]
  },
  {
   "cell_type": "markdown",
   "metadata": {},
   "source": [
    "# Unscaled Random Forest Classifier"
   ]
  },
  {
   "cell_type": "code",
   "execution_count": 278,
   "metadata": {},
   "outputs": [
    {
     "data": {
      "text/plain": [
       "RandomForestClassifier(n_estimators=200, random_state=1)"
      ]
     },
     "execution_count": 278,
     "metadata": {},
     "output_type": "execute_result"
    }
   ],
   "source": [
    "# Create Random Forest Classifier\n",
    "ranfor_class = RandomForestClassifier(n_estimators = 200, random_state = 1)\n",
    "\n",
    "# Fit/train the classifier with 2019 loan data\n",
    "ranfor_class.fit(X_train, y_train)"
   ]
  },
  {
   "cell_type": "code",
   "execution_count": 279,
   "metadata": {},
   "outputs": [
    {
     "name": "stdout",
     "output_type": "stream",
     "text": [
      "Training Data Score: 1.0\n",
      "Testing Data Score: 0.6210123351765207\n"
     ]
    }
   ],
   "source": [
    "# Validate the model using the test data\n",
    "print(f\"Training Data Score: {ranfor_class.score(X_train, y_train)}\")\n",
    "print(f\"Testing Data Score: {ranfor_class.score(X_test, y_test)}\")"
   ]
  },
  {
   "cell_type": "code",
   "execution_count": 280,
   "metadata": {},
   "outputs": [
    {
     "name": "stdout",
     "output_type": "stream",
     "text": [
      "True negative: 815\n",
      "False positive: 1536\n",
      "False negative: 246\n",
      "True postive: 2105\n"
     ]
    }
   ],
   "source": [
    "# Confusion Matrix\n",
    "y_true_rf = y_test\n",
    "y_pred_rf = ranfor_class.predict(X_test)\n",
    "confusion_matrix(y_true_rf, y_pred_rf)\n",
    "tn, fp, fn, tp = confusion_matrix(y_true_rf, y_pred_rf).ravel()\n",
    "tn, fp, fn, tp\n",
    "print(f\"True negative: {tn}\")\n",
    "print(f\"False positive: {fp}\")\n",
    "print(f\"False negative: {fn}\")\n",
    "print(f\"True postive: {tp}\")"
   ]
  },
  {
   "cell_type": "code",
   "execution_count": 283,
   "metadata": {},
   "outputs": [
    {
     "name": "stdout",
     "output_type": "stream",
     "text": [
      "              precision    recall  f1-score   support\n",
      "\n",
      "           0       0.77      0.35      0.48      2351\n",
      "           1       0.58      0.90      0.70      2351\n",
      "\n",
      "    accuracy                           0.62      4702\n",
      "   macro avg       0.67      0.62      0.59      4702\n",
      "weighted avg       0.67      0.62      0.59      4702\n",
      "\n"
     ]
    }
   ],
   "source": [
    "# Classification Report\n",
    "print(classification_report(y_true_rf, y_pred_rf))"
   ]
  },
  {
   "cell_type": "markdown",
   "metadata": {},
   "source": [
    "# <u>Evaluating First Prediction</u>\n",
    "\n",
    "Based on the test score, both models didn't perform that well with the random forest classifier being able to classify 62.1% of the potential loan risk and the logistic regression only did 52.5%.  Overall it's poor perform for both models, but the random forest model performed just a bit better than the logistic regression.  One thing to note is that the training of the random forest model was overfit.  We had a large number of false alarms which is not good because that means that for 1536 of the loans that were predicted to be low risk turned out to be high risk."
   ]
  },
  {
   "cell_type": "markdown",
   "metadata": {},
   "source": [
    "# Scale Data"
   ]
  },
  {
   "cell_type": "code",
   "execution_count": 288,
   "metadata": {},
   "outputs": [],
   "source": [
    "scaler = StandardScaler().fit(X_train)\n",
    "X_train_scaled = scaler.transform(X_train)\n",
    "X_test_scaled = scaler.transform(X_test)"
   ]
  },
  {
   "cell_type": "markdown",
   "metadata": {},
   "source": [
    "# <u>Second Prediction</u>\n",
    "\n",
    "My second predictions after running the logistic regression model and the random forest classifier on the unscaled model still remains the same.  I believe that with scaled data the random forest classifier will do even better.  What is likely to happen is that for the random forest classifier, I might need to adjust the features to improve the scores."
   ]
  },
  {
   "cell_type": "markdown",
   "metadata": {},
   "source": [
    "# Scaled Logistic Regression"
   ]
  },
  {
   "cell_type": "code",
   "execution_count": 289,
   "metadata": {},
   "outputs": [
    {
     "name": "stderr",
     "output_type": "stream",
     "text": [
      "/Users/rmbp2015/opt/anaconda3/lib/python3.8/site-packages/sklearn/linear_model/_logistic.py:763: ConvergenceWarning: lbfgs failed to converge (status=1):\n",
      "STOP: TOTAL NO. of ITERATIONS REACHED LIMIT.\n",
      "\n",
      "Increase the number of iterations (max_iter) or scale the data as shown in:\n",
      "    https://scikit-learn.org/stable/modules/preprocessing.html\n",
      "Please also refer to the documentation for alternative solver options:\n",
      "    https://scikit-learn.org/stable/modules/linear_model.html#logistic-regression\n",
      "  n_iter_i = _check_optimize_result(\n"
     ]
    },
    {
     "data": {
      "text/plain": [
       "LogisticRegression()"
      ]
     },
     "execution_count": 289,
     "metadata": {},
     "output_type": "execute_result"
    }
   ],
   "source": [
    "# Create the Logistic Regression model\n",
    "logreg_model = LogisticRegression()\n",
    "\n",
    "# Fit/train the model using the scaled training data from 2019 loans\n",
    "logreg_model.fit(X_train_scaled, y_train)"
   ]
  },
  {
   "cell_type": "code",
   "execution_count": 290,
   "metadata": {},
   "outputs": [
    {
     "name": "stdout",
     "output_type": "stream",
     "text": [
      "Training Data Score: 0.713136288998358\n",
      "Testing Data Score: 0.7201190982560612\n"
     ]
    }
   ],
   "source": [
    "# Validate the model using the scaled test data\n",
    "print(f\"Training Data Score: {logreg_model.score(X_train_scaled, y_train)}\")\n",
    "print(f\"Testing Data Score: {logreg_model.score(X_test_scaled, y_test)}\")"
   ]
  },
  {
   "cell_type": "code",
   "execution_count": 291,
   "metadata": {},
   "outputs": [
    {
     "name": "stdout",
     "output_type": "stream",
     "text": [
      "True negative: 1242\n",
      "False positive: 1109\n",
      "False negative: 207\n",
      "True postive: 2144\n"
     ]
    }
   ],
   "source": [
    "# Confusion Matrix\n",
    "y_true_log = y_test\n",
    "y_pred_slog = logreg_model.predict(X_test_scaled)\n",
    "confusion_matrix(y_true_log, y_pred_slog)\n",
    "tn, fp, fn, tp = confusion_matrix(y_true_log, y_pred_slog).ravel()\n",
    "tn, fp, fn, tp\n",
    "print(f\"True negative: {tn}\")\n",
    "print(f\"False positive: {fp}\")\n",
    "print(f\"False negative: {fn}\")\n",
    "print(f\"True postive: {tp}\")"
   ]
  },
  {
   "cell_type": "code",
   "execution_count": 292,
   "metadata": {},
   "outputs": [
    {
     "name": "stdout",
     "output_type": "stream",
     "text": [
      "              precision    recall  f1-score   support\n",
      "\n",
      "           0       0.86      0.53      0.65      2351\n",
      "           1       0.66      0.91      0.77      2351\n",
      "\n",
      "    accuracy                           0.72      4702\n",
      "   macro avg       0.76      0.72      0.71      4702\n",
      "weighted avg       0.76      0.72      0.71      4702\n",
      "\n"
     ]
    }
   ],
   "source": [
    "# Classification Report\n",
    "print(classification_report(y_true_log, y_pred_slog))"
   ]
  },
  {
   "cell_type": "markdown",
   "metadata": {},
   "source": [
    "# Scaled Random Forest Classifier"
   ]
  },
  {
   "cell_type": "code",
   "execution_count": 293,
   "metadata": {},
   "outputs": [
    {
     "data": {
      "text/plain": [
       "RandomForestClassifier(n_estimators=200, random_state=1)"
      ]
     },
     "execution_count": 293,
     "metadata": {},
     "output_type": "execute_result"
    }
   ],
   "source": [
    "# Create Random Forest Classifier\n",
    "ranfor_class = RandomForestClassifier(n_estimators = 200, random_state = 1)\n",
    "\n",
    "# Fit/train the classifier with scaled 2019 loan data\n",
    "ranfor_class.fit(X_train_scaled, y_train)"
   ]
  },
  {
   "cell_type": "code",
   "execution_count": 294,
   "metadata": {},
   "outputs": [
    {
     "name": "stdout",
     "output_type": "stream",
     "text": [
      "Training Data Score: 1.0\n",
      "Testing Data Score: 0.6214376860910251\n"
     ]
    }
   ],
   "source": [
    "# Validate the classifier using the scaled test data\n",
    "print(f\"Training Data Score: {ranfor_class.score(X_train_scaled, y_train)}\")\n",
    "print(f\"Testing Data Score: {ranfor_class.score(X_test_scaled, y_test)}\")"
   ]
  },
  {
   "cell_type": "code",
   "execution_count": 295,
   "metadata": {},
   "outputs": [
    {
     "name": "stdout",
     "output_type": "stream",
     "text": [
      "True negative: 814\n",
      "False positive: 1537\n",
      "False negative: 243\n",
      "True postive: 2108\n"
     ]
    }
   ],
   "source": [
    "# Confusion Matrix\n",
    "y_true_rf = y_test\n",
    "y_pred_srf = ranfor_class.predict(X_test_scaled)\n",
    "confusion_matrix(y_true_rf, y_pred_srf)\n",
    "tn, fp, fn, tp = confusion_matrix(y_true_rf, y_pred_srf).ravel()\n",
    "tn, fp, fn, tp\n",
    "print(f\"True negative: {tn}\")\n",
    "print(f\"False positive: {fp}\")\n",
    "print(f\"False negative: {fn}\")\n",
    "print(f\"True postive: {tp}\")"
   ]
  },
  {
   "cell_type": "code",
   "execution_count": 286,
   "metadata": {},
   "outputs": [
    {
     "name": "stdout",
     "output_type": "stream",
     "text": [
      "              precision    recall  f1-score   support\n",
      "\n",
      "           0       0.77      0.35      0.48      2351\n",
      "           1       0.58      0.90      0.70      2351\n",
      "\n",
      "    accuracy                           0.62      4702\n",
      "   macro avg       0.67      0.62      0.59      4702\n",
      "weighted avg       0.67      0.62      0.59      4702\n",
      "\n"
     ]
    }
   ],
   "source": [
    "# Classification Report\n",
    "print(classification_report(y_true_rf, y_pred_srf))"
   ]
  },
  {
   "cell_type": "markdown",
   "metadata": {},
   "source": [
    "# <u>Evaluating Second Prediction</u>\n",
    "\n",
    "Working with the scaled data this time and running them through the models, the logistic regression model provided a better score than the random forest classifier model.  The logistic regression scored 72.0% with the scaled data and that's significantly better than the unscaled results.  My prediction that random forest would perform better with the scaled data was not correct.  In fact, the random forest classifier seemed to perform the same with the scaled data as it did with the unscaled data.  The random forest scored 62.1% with the scaled data as it did with the unscaled data at 62.1%."
   ]
  },
  {
   "cell_type": "code",
   "execution_count": null,
   "metadata": {},
   "outputs": [],
   "source": []
  }
 ],
 "metadata": {
  "interpreter": {
   "hash": "1aeb84dc5d91a07996324b740e495bca5d611e333e22a96b68829f063c53f52b"
  },
  "kernelspec": {
   "display_name": "Python 3",
   "language": "python",
   "name": "python3"
  },
  "language_info": {
   "codemirror_mode": {
    "name": "ipython",
    "version": 3
   },
   "file_extension": ".py",
   "mimetype": "text/x-python",
   "name": "python",
   "nbconvert_exporter": "python",
   "pygments_lexer": "ipython3",
   "version": "3.8.8"
  }
 },
 "nbformat": 4,
 "nbformat_minor": 2
}
